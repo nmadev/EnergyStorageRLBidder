{
 "cells": [
  {
   "cell_type": "code",
   "execution_count": 1,
   "metadata": {},
   "outputs": [],
   "source": [
    "import torch\n",
    "import torch.nn as nn\n",
    "import torch.optim as optim\n",
    "import numpy as np\n",
    "import pandas as pd\n",
    "from src.dqn.DQNAgent import DQNAgent\n",
    "from src.dqn.ReplayBuffer import ReplayBuffer\n",
    "from src.ProbBidClearing import ProbBidClearing"
   ]
  },
  {
   "cell_type": "code",
   "execution_count": 2,
   "metadata": {},
   "outputs": [],
   "source": [
    "# load day-ahead and real-time prices\n",
    "DAP = pd.read_csv(\"./data/CAISO_DAP.csv\")\n",
    "RTP = pd.read_csv(\"./data/CAISO_RTP.csv\")\n",
    "\n",
    "# read datetime and drop duplicate data\n",
    "RTP[\"Date\"] = pd.to_datetime(RTP[\"Date\"], format=\"%m/%d/%Y %I:%M:%S %p\")\n",
    "RTP = RTP.drop_duplicates(subset=[\"Date\", \"hub\"])\n",
    "DAP[\"Date\"] = pd.to_datetime(DAP[\"Date\"], format=\"%m/%d/%Y %I:%M:%S %p\")\n",
    "DAP = DAP.drop_duplicates(subset=[\"Date\", \"zone\"])\n",
    "\n",
    "# pivot data\n",
    "DAP_pivoted = DAP.pivot(index=\"Date\", columns=\"zone\", values=\"price\")\n",
    "RTP_pivoted = RTP.pivot(index=\"Date\", columns=\"hub\", values=\"price\")\n",
    "\n",
    "# rename 'Date' column to 'ts'\n",
    "DAP_pivoted.index.names = [\"ts\"]\n",
    "RTP_pivoted.index.names = [\"ts\"]\n",
    "\n",
    "# merge dataframes on index\n",
    "CAISO_PRICES = pd.merge(DAP_pivoted, RTP_pivoted, on=[\"ts\"], how=\"outer\")\n",
    "CAISO_PRICES = CAISO_PRICES.ffill().reset_index()"
   ]
  },
  {
   "cell_type": "code",
   "execution_count": 3,
   "metadata": {},
   "outputs": [],
   "source": [
    "# form datasets\n",
    "PGAE_NP15 = CAISO_PRICES[[\"ts\", \"PGAE\", \"TH_NP15\"]].rename(\n",
    "    columns={\"PGAE\": \"dap\", \"TH_NP15\": \"rtp\"}\n",
    ")\n",
    "PGAE_ZP26 = CAISO_PRICES[[\"ts\", \"PGAE\", \"TH_ZP26\"]].rename(\n",
    "    columns={\"PGAE\": \"dap\", \"TH_ZP26\": \"rtp\"}\n",
    ")\n",
    "SCE_SP15 = CAISO_PRICES[[\"ts\", \"SCE\", \"TH_SP15\"]].rename(\n",
    "    columns={\"SCE\": \"dap\", \"TH_SP15\": \"rtp\"}\n",
    ")\n",
    "SDGE_SP15 = CAISO_PRICES[[\"ts\", \"SDGE\", \"TH_SP15\"]].rename(\n",
    "    columns={\"SDGE\": \"dap\", \"TH_SP15\": \"rtp\"}\n",
    ")"
   ]
  },
  {
   "cell_type": "code",
   "execution_count": 4,
   "metadata": {},
   "outputs": [],
   "source": [
    "# Hyperparameters\n",
    "lr = 1e-3\n",
    "batchsize = 128\n",
    "maxlength = 10000\n",
    "episodes = 5\n",
    "initialsize = 5000\n",
    "tau = 100\n",
    "epsilon = 0.2\n",
    "gamma = 0.99"
   ]
  },
  {
   "cell_type": "code",
   "execution_count": 5,
   "metadata": {},
   "outputs": [],
   "source": [
    "# init the prob clearer\n",
    "\n",
    "clearer = ProbBidClearing()\n",
    "prob_clear_function = clearer.meanshift_norm_prob_clear"
   ]
  },
  {
   "cell_type": "code",
   "execution_count": 6,
   "metadata": {},
   "outputs": [],
   "source": [
    "# init DQN Agent\n",
    "agent = DQNAgent(lr=lr, \n",
    "                 prob_clear=prob_clear_function,\n",
    "                 attitude=\"risky\",\n",
    "                 data=PGAE_NP15\n",
    "                )\n",
    "\n",
    "# init Replay Buffer\n",
    "buffer = ReplayBuffer(maxlength=maxlength)"
   ]
  },
  {
   "cell_type": "code",
   "execution_count": 7,
   "metadata": {},
   "outputs": [
    {
     "name": "stderr",
     "output_type": "stream",
     "text": [
      "/Users/shadunts/Documents/study/ORCSE4529/EnergyStorageRLBidder/src/dqn/DQNAgent.py:240: UserWarning: Creating a tensor from a list of numpy.ndarrays is extremely slow. Please consider converting the list to a single numpy.ndarray with numpy.array() before converting to a tensor. (Triggered internally at /Users/runner/work/pytorch/pytorch/pytorch/torch/csrc/utils/tensor_new.cpp:281.)\n",
      "  states = torch.FloatTensor(states)\n"
     ]
    },
    {
     "name": "stdout",
     "output_type": "stream",
     "text": [
      "Episode 0, Overall Reward: 26317.6565294459\n",
      "Episode 1, Overall Reward: 30443.237286171316\n",
      "Episode 2, Overall Reward: 30852.192674964757\n",
      "Episode 3, Overall Reward: 27920.69308967805\n",
      "Episode 4, Overall Reward: 28154.4050648881\n"
     ]
    }
   ],
   "source": [
    "agent.train(buffer, gamma, initialsize, batchsize, tau, episodes)"
   ]
  },
  {
   "cell_type": "code",
   "execution_count": 8,
   "metadata": {
    "scrolled": true
   },
   "outputs": [
    {
     "data": {
      "text/plain": [
       "Text(0, 0.5, 'Profit')"
      ]
     },
     "execution_count": 8,
     "metadata": {},
     "output_type": "execute_result"
    },
    {
     "data": {
      "image/png": "[encoded data removed]",
      "text/plain": [
       "<Figure size 640x480 with 1 Axes>"
      ]
     },
     "metadata": {},
     "output_type": "display_data"
    }
   ],
   "source": [
    "import matplotlib.pyplot as plt\n",
    "\n",
    "plt.plot(np.cumsum(agent.profit_hist))\n",
    "plt.xlabel(\"Timestamp\")\n",
    "plt.ylabel(\"Profit\")"
   ]
  },
  {
   "cell_type": "code",
   "execution_count": 9,
   "metadata": {},
   "outputs": [],
   "source": [
    "import pickle as pkl\n",
    "\n",
    "agent._reset_sim()\n",
    "\n",
    "with open('agents/meanshift_norm_risky.pkl', 'wb') as f:\n",
    "    pkl.dump(agent, f)"
   ]
  }
 ],
 "metadata": {
  "kernelspec": {
   "display_name": "Python 3 (ipykernel)",
   "language": "python",
   "name": "python3"
  },
  "language_info": {
   "codemirror_mode": {
    "name": "ipython",
    "version": 3
   },
   "file_extension": ".py",
   "mimetype": "text/x-python",
   "name": "python",
   "nbconvert_exporter": "python",
   "pygments_lexer": "ipython3",
   "version": "3.10.9"
  }
 },
 "nbformat": 4,
 "nbformat_minor": 4
}
