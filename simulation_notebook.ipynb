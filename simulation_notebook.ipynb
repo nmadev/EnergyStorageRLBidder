{
 "cells": [
  {
   "cell_type": "markdown",
   "metadata": {},
   "source": [
    "# Simulation Notebook\n",
    "\n",
    "<b>Description:</b> This notebook provides an example of how to run the simulation as well as build and test a bidding model"
   ]
  },
  {
   "cell_type": "code",
   "execution_count": 19,
   "metadata": {},
   "outputs": [
    {
     "name": "stdout",
     "output_type": "stream",
     "text": [
      "The autoreload extension is already loaded. To reload it, use:\n",
      "  %reload_ext autoreload\n"
     ]
    }
   ],
   "source": [
    "%load_ext autoreload"
   ]
  },
  {
   "cell_type": "code",
   "execution_count": 55,
   "metadata": {},
   "outputs": [],
   "source": [
    "%autoreload 2\n",
    "import numpy as np\n",
    "import pandas as pd\n",
    "import matplotlib.pyplot as plt\n",
    "from src.BidSimulator import BidSimulator"
   ]
  },
  {
   "cell_type": "markdown",
   "metadata": {},
   "source": [
    "## Load and Preprocess CAISO Data"
   ]
  },
  {
   "cell_type": "code",
   "execution_count": 56,
   "metadata": {},
   "outputs": [],
   "source": [
    "# load day-ahead and real-time prices\n",
    "DAP = pd.read_csv(\"./data/CAISO_DAP.csv\")\n",
    "RTP = pd.read_csv(\"./data/CAISO_RTP.csv\")\n",
    "\n",
    "# read datetime and drop duplicate data\n",
    "RTP[\"Date\"] = pd.to_datetime(RTP[\"Date\"], format=\"%m/%d/%Y %I:%M:%S %p\")\n",
    "RTP = RTP.drop_duplicates(subset=[\"Date\", \"hub\"])\n",
    "DAP[\"Date\"] = pd.to_datetime(DAP[\"Date\"], format=\"%m/%d/%Y %I:%M:%S %p\")\n",
    "DAP = DAP.drop_duplicates(subset=[\"Date\", \"zone\"])\n",
    "\n",
    "# pivot data\n",
    "DAP_pivoted = DAP.pivot(index=\"Date\", columns=\"zone\", values=\"price\")\n",
    "RTP_pivoted = RTP.pivot(index=\"Date\", columns=\"hub\", values=\"price\")\n",
    "\n",
    "# rename 'Date' column to 'ts'\n",
    "DAP_pivoted.index.names = [\"ts\"]\n",
    "RTP_pivoted.index.names = [\"ts\"]\n",
    "\n",
    "# merge dataframes on index\n",
    "CAISO_PRICES = pd.merge(DAP_pivoted, RTP_pivoted, on=[\"ts\"], how=\"outer\")\n",
    "CAISO_PRICES = CAISO_PRICES.ffill().reset_index()"
   ]
  },
  {
   "cell_type": "code",
   "execution_count": 57,
   "metadata": {},
   "outputs": [],
   "source": [
    "# form datasets\n",
    "PGAE_NP15 = CAISO_PRICES[[\"ts\", \"PGAE\", \"TH_NP15\"]].rename(\n",
    "    columns={\"PGAE\": \"dap\", \"TH_NP15\": \"rtp\"}\n",
    ")\n",
    "PGAE_ZP26 = CAISO_PRICES[[\"ts\", \"PGAE\", \"TH_ZP26\"]].rename(\n",
    "    columns={\"PGAE\": \"dap\", \"TH_ZP26\": \"rtp\"}\n",
    ")\n",
    "SCE_SP15 = CAISO_PRICES[[\"ts\", \"SCE\", \"TH_SP15\"]].rename(\n",
    "    columns={\"SCE\": \"dap\", \"TH_SP15\": \"rtp\"}\n",
    ")\n",
    "SDGE_SP15 = CAISO_PRICES[[\"ts\", \"SDGE\", \"TH_SP15\"]].rename(\n",
    "    columns={\"SDGE\": \"dap\", \"TH_SP15\": \"rtp\"}\n",
    ")"
   ]
  },
  {
   "cell_type": "markdown",
   "metadata": {},
   "source": [
    "## Build a BidSimulator Object"
   ]
  },
  {
   "cell_type": "code",
   "execution_count": 66,
   "metadata": {},
   "outputs": [
    {
     "name": "stdout",
     "output_type": "stream",
     "text": [
      "Bid Summary\n",
      "\tSOC: 0.5\n",
      "\tProfit: 0\n",
      "\tTimestamp: 1440/144457\n",
      "\tCapacity: 8.0\n",
      "\tMaximum Power: 2.0\n",
      "\tEfficiency: 0.8\n",
      "\tDischarge Cost: 0.0\n",
      "\tResting Draw: 0.01\n"
     ]
    }
   ],
   "source": [
    "example_bidder = BidSimulator(\n",
    "    data=PGAE_NP15,\n",
    "    lookback_periods=12 * 24 * 5,  # start after first 5 days\n",
    "    end=10000,\n",
    "    eff=0.8,\n",
    "    discharge_cost=0.0,\n",
    "    initial_soc=0.5,\n",
    "    capacity=8.0,\n",
    "    power_max=2.0,\n",
    "    resting_draw=0.01,\n",
    "    timestep=(5.0 / 60),\n",
    "    params=None,\n",
    ")\n",
    "\n",
    "print(example_bidder)"
   ]
  },
  {
   "cell_type": "markdown",
   "metadata": {},
   "source": [
    "## Run Simulation Loop for Simple Bid Algorithm"
   ]
  },
  {
   "cell_type": "code",
   "execution_count": 67,
   "metadata": {},
   "outputs": [
    {
     "data": {
      "text/plain": [
       "Text(0, 0.5, 'Cumulative Profit ($)')"
      ]
     },
     "execution_count": 67,
     "metadata": {},
     "output_type": "execute_result"
    },
    {
     "data": {
      "image/png": "[encoded data removed]",
      "text/plain": [
       "<Figure size 800x300 with 1 Axes>"
      ]
     },
     "metadata": {},
     "output_type": "display_data"
    }
   ],
   "source": [
    "# get starting state and calculate price mean from the previous 5 days\n",
    "example_bidder.reset_simulation()\n",
    "soc, running_profit, done, lookback = example_bidder.get_state()\n",
    "bid_threshold = lookback.rtp.median()\n",
    "tolerance = 4\n",
    "action_range = example_bidder.get_action()\n",
    "steps = 0\n",
    "\n",
    "# loop until end of data is found\n",
    "while not done:\n",
    "    steps += 1\n",
    "    price = lookback.rtp.iloc[-1]\n",
    "    bid = 0\n",
    "    if price < bid_threshold - tolerance:\n",
    "        bid = action_range[1]\n",
    "    elif price > bid_threshold + tolerance:\n",
    "        bid = action_range[0]\n",
    "\n",
    "    soc, profit, action_range, done, lookback = example_bidder.step(bid)\n",
    "\n",
    "# get summary statistics\n",
    "final_info = example_bidder.get_summary()\n",
    "\n",
    "# plot cumulative profit over time\n",
    "plt.figure(figsize=(8, 3))\n",
    "plt.plot(np.cumsum(final_info[\"profit_history\"]))\n",
    "plt.xlabel(\"Timestep\")\n",
    "plt.ylabel(\"Cumulative Profit ($)\")"
   ]
  }
 ],
 "metadata": {
  "kernelspec": {
   "display_name": "Python 3 (ipykernel)",
   "language": "python",
   "name": "python3"
  },
  "language_info": {
   "codemirror_mode": {
    "name": "ipython",
    "version": 3
   },
   "file_extension": ".py",
   "mimetype": "text/x-python",
   "name": "python",
   "nbconvert_exporter": "python",
   "pygments_lexer": "ipython3",
   "version": "3.10.9"
  }
 },
 "nbformat": 4,
 "nbformat_minor": 4
}
