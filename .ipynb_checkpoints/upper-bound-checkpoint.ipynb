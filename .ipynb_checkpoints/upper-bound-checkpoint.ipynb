{
 "cells": [
  {
   "cell_type": "code",
   "execution_count": 1,
   "id": "3b71ff3c-cd3c-417f-a7c9-000801a00454",
   "metadata": {},
   "outputs": [],
   "source": [
    "import pandas as pd"
   ]
  },
  {
   "cell_type": "code",
   "execution_count": 11,
   "id": "a3420eff-5490-45c6-9910-d41a665030b2",
   "metadata": {},
   "outputs": [
    {
     "name": "stdout",
     "output_type": "stream",
     "text": [
      "Current installed solvers:  ['CLARABEL', 'GUROBI', 'OSQP', 'SCIPY', 'SCS']\n"
     ]
    }
   ],
   "source": [
    "import cvxpy as cp\n",
    "import numpy as np\n",
    "import gurobipy\n",
    "import pandas as pd\n",
    "import matplotlib.pyplot as plt\n",
    "from src.BidSimulator import BidSimulator\n",
    "\n",
    "# Print the installed solver to see if GUROBI is installed correctly\n",
    "print(\"Current installed solvers: \", cp.installed_solvers())"
   ]
  },
  {
   "cell_type": "code",
   "execution_count": 9,
   "id": "ec6c5e35-9fd4-4e3b-91ca-c8e0e8dbde26",
   "metadata": {},
   "outputs": [],
   "source": [
    "# load day-ahead and real-time prices\n",
    "DAP = pd.read_csv(\"./data/CAISO_DAP.csv\")\n",
    "RTP = pd.read_csv(\"./data/CAISO_RTP.csv\")\n",
    "\n",
    "# read datetime and drop duplicate data\n",
    "RTP[\"Date\"] = pd.to_datetime(RTP[\"Date\"], format=\"%m/%d/%Y %I:%M:%S %p\")\n",
    "RTP = RTP.drop_duplicates(subset=[\"Date\", \"hub\"])\n",
    "DAP[\"Date\"] = pd.to_datetime(DAP[\"Date\"], format=\"%m/%d/%Y %I:%M:%S %p\")\n",
    "DAP = DAP.drop_duplicates(subset=[\"Date\", \"zone\"])\n",
    "\n",
    "# pivot data\n",
    "DAP_pivoted = DAP.pivot(index=\"Date\", columns=\"zone\", values=\"price\")\n",
    "RTP_pivoted = RTP.pivot(index=\"Date\", columns=\"hub\", values=\"price\")\n",
    "\n",
    "# rename 'Date' column to 'ts'\n",
    "DAP_pivoted.index.names = [\"ts\"]\n",
    "RTP_pivoted.index.names = [\"ts\"]\n",
    "\n",
    "# merge dataframes on index\n",
    "CAISO_PRICES = pd.merge(DAP_pivoted, RTP_pivoted, on=[\"ts\"], how=\"outer\")\n",
    "CAISO_PRICES = CAISO_PRICES.ffill().reset_index()"
   ]
  },
  {
   "cell_type": "code",
   "execution_count": 14,
   "id": "ec54d78c-1cce-4a8e-88ee-3bdf7eb07dcf",
   "metadata": {},
   "outputs": [],
   "source": [
    "# form datasets\n",
    "PGAE_NP15 = CAISO_PRICES[[\"ts\", \"PGAE\", \"TH_NP15\"]].rename(\n",
    "    columns={\"PGAE\": \"dap\", \"TH_NP15\": \"rtp\"}\n",
    ")\n",
    "PGAE_ZP26 = CAISO_PRICES[[\"ts\", \"PGAE\", \"TH_ZP26\"]].rename(\n",
    "    columns={\"PGAE\": \"dap\", \"TH_ZP26\": \"rtp\"}\n",
    ")\n",
    "SCE_SP15 = CAISO_PRICES[[\"ts\", \"SCE\", \"TH_SP15\"]].rename(\n",
    "    columns={\"SCE\": \"dap\", \"TH_SP15\": \"rtp\"}\n",
    ")\n",
    "SDGE_SP15 = CAISO_PRICES[[\"ts\", \"SDGE\", \"TH_SP15\"]].rename(\n",
    "    columns={\"SDGE\": \"dap\", \"TH_SP15\": \"rtp\"}\n",
    ")"
   ]
  },
  {
   "cell_type": "code",
   "execution_count": null,
   "id": "4bb7cdec-b598-4d1e-a72d-a8c52dc2023c",
   "metadata": {},
   "outputs": [],
   "source": [
    "## PARAMETERS\n",
    "\n",
    "T = 10 #10000         # total timesteps\n",
    "timestep = 5/60   # 5-minute price intervals \n",
    "\n",
    "price = PGAE_NP15.rtp  # price of electricity\n",
    "\n",
    "eta = 0.8       # roundtrip efficiency\n",
    "PMax = 2.0      # power rating (MW)\n",
    "Emax = 8.0      # storage capacity (MWh) \n",
    "e0   = .5*Emax  # initial batter state #TO DO: normalize to SoC\n",
    "\n",
    "## Variables\n",
    "p = cp.Variable((T), nonneg = True)  # discharge control variable\n",
    "h = cp.Variable((T), nonneg = True)  # charge control variable\n",
    "u = cp.Variable((T), boolean = True) # discharge status (binary variable)\n",
    "v = cp.Variable((T), boolean = True) # charge status (binary variable)\n",
    "e = cp.Variable((T), nonneg = True)  # battery state"
   ]
  },
  {
   "cell_type": "markdown",
   "id": "970b7256-4345-42fd-a74a-2abd3cd4ca9c",
   "metadata": {},
   "source": [
    "$$\\max \\pi_\\tau = \\sum_{t \\in \\tau}\\lambda_t(d_t - c_t)$$\n",
    "$$0 \\leq d_t \\leq u_tP_{max}$$\n",
    "$$0 \\leq c_t \\leq v_tP_{max}$$\n",
    "$$ u_t + v_t = 1 $$\n",
    "$$0 \\leq _{t} \\leq E_{max}$$\n",
    "$$e_{t} = e_{t-1} - d_t/\\eta + c_t\\eta$$ "
   ]
  },
  {
   "cell_type": "code",
   "execution_count": null,
   "id": "1f962698-07e3-46a3-889c-8fbe75024f19",
   "metadata": {},
   "outputs": [],
   "source": [
    "obj = cp.Maximize(price_week@(LOAD + x - g))\n",
    "\n",
    "# Initialize an empty constraint set\n",
    "con_set_1 = []  \n",
    "\n",
    "# power balance constraint, supply equals demand\n",
    "con_set_1.append(g + S*alpha_week + p == LOAD + x) \n",
    "\n",
    "con_set_1.append(e[T-1] == Emax/2) # End state with reservoir at half full \n",
    "\n",
    "for t in range(T):  \n",
    "        con_set_1.append(e[t] <= Emax)  # maximum pumping limits\n",
    "        con_set_1.append(e[t] >= 0)  # minimum pumping limits\n",
    "        \n",
    "        con_set_1.append(p[t] <= u[t]*PMax)  # maximum generation limits\n",
    "        con_set_1.append(p[t] >= 0)  # minimum generation limits\n",
    "\n",
    "        con_set_1.append(h[t] <= v[t]*eta*alpha_week[t]*S)  # maximum pumping limits\n",
    "        con_set_1.append(h[t] >= 0)  # minimum pumping limits\n",
    "        \n",
    "        con_set_1.append(u[t] + v[t] == 1)\n",
    "        \n",
    "        if t==0:    \n",
    "            con_set_1.append(e[0] == eta*(h[0]-p[0]) + e0)\n",
    "        else: \n",
    "            con_set_1.append(e[t] == eta*(h[t]-p[t]) + e[t-1])"
   ]
  },
  {
   "cell_type": "code",
   "execution_count": null,
   "id": "9d4cd269-78ac-492b-a516-c2c1fd6c181e",
   "metadata": {},
   "outputs": [],
   "source": []
  }
 ],
 "metadata": {
  "kernelspec": {
   "display_name": "Python 3 (ipykernel)",
   "language": "python",
   "name": "python3"
  },
  "language_info": {
   "codemirror_mode": {
    "name": "ipython",
    "version": 3
   },
   "file_extension": ".py",
   "mimetype": "text/x-python",
   "name": "python",
   "nbconvert_exporter": "python",
   "pygments_lexer": "ipython3",
   "version": "3.12.4"
  }
 },
 "nbformat": 4,
 "nbformat_minor": 5
}
