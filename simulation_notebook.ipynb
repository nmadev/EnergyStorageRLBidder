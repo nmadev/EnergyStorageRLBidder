{
 "cells": [
  {
   "cell_type": "markdown",
   "metadata": {},
   "source": [
    "# Simulation Notebook\n",
    "\n",
    "<b>Description:</b> This notebook provides an example of how to run the simulation as well as build and test a bidding model"
   ]
  },
  {
   "cell_type": "code",
   "execution_count": 1,
   "metadata": {},
   "outputs": [],
   "source": [
    "%load_ext autoreload"
   ]
  },
  {
   "cell_type": "code",
   "execution_count": 7,
   "metadata": {},
   "outputs": [],
   "source": [
    "%autoreload 2\n",
    "import numpy as np\n",
    "import pandas as pd\n",
    "from src.BidSimulator import BidSimulator"
   ]
  },
  {
   "cell_type": "markdown",
   "metadata": {},
   "source": [
    "## Load and Preprocess CAISO Data"
   ]
  },
  {
   "cell_type": "code",
   "execution_count": 8,
   "metadata": {},
   "outputs": [],
   "source": [
    "# load day-ahead and real-time prices\n",
    "DAP = pd.read_csv(\"./data/CAISO_DAP.csv\")\n",
    "RTP = pd.read_csv(\"./data/CAISO_RTP.csv\")\n",
    "\n",
    "# read datetime and drop duplicate data\n",
    "RTP[\"Date\"] = pd.to_datetime(RTP[\"Date\"], format=\"%m/%d/%Y %I:%M:%S %p\")\n",
    "RTP = RTP.drop_duplicates(subset=[\"Date\", \"hub\"])\n",
    "DAP[\"Date\"] = pd.to_datetime(DAP[\"Date\"], format=\"%m/%d/%Y %I:%M:%S %p\")\n",
    "DAP = DAP.drop_duplicates(subset=[\"Date\", \"zone\"])\n",
    "\n",
    "# pivot data\n",
    "DAP_pivoted = DAP.pivot(index=\"Date\", columns=\"zone\", values=\"price\")\n",
    "RTP_pivoted = RTP.pivot(index=\"Date\", columns=\"hub\", values=\"price\")\n",
    "\n",
    "# rename 'Date' column to 'ts'\n",
    "DAP_pivoted.index.names = [\"ts\"]\n",
    "RTP_pivoted.index.names = [\"ts\"]\n",
    "\n",
    "# merge dataframes on index\n",
    "CAISO_PRICES = pd.merge(DAP_pivoted, RTP_pivoted, on=[\"ts\"], how=\"outer\")\n",
    "CAISO_PRICES = CAISO_PRICES.ffill().reset_index()"
   ]
  },
  {
   "cell_type": "code",
   "execution_count": 9,
   "metadata": {},
   "outputs": [],
   "source": [
    "# form datasets\n",
    "PGAE_NP15 = CAISO_PRICES[[\"ts\", \"PGAE\", \"TH_NP15\"]].rename(\n",
    "    columns={\"PGAE\": \"dap\", \"TH_NP15\": \"rtp\"}\n",
    ")\n",
    "PGAE_ZP26 = CAISO_PRICES[[\"ts\", \"PGAE\", \"TH_ZP26\"]].rename(\n",
    "    columns={\"PGAE\": \"dap\", \"TH_ZP26\": \"rtp\"}\n",
    ")\n",
    "SCE_SP15 = CAISO_PRICES[[\"ts\", \"SCE\", \"TH_SP15\"]].rename(\n",
    "    columns={\"SCE\": \"dap\", \"TH_SP15\": \"rtp\"}\n",
    ")\n",
    "SDGE_SP15 = CAISO_PRICES[[\"ts\", \"SDGE\", \"TH_SP15\"]].rename(\n",
    "    columns={\"SDGE\": \"dap\", \"TH_SP15\": \"rtp\"}\n",
    ")"
   ]
  },
  {
   "cell_type": "markdown",
   "metadata": {},
   "source": [
    "## Build a BidSimulator Object"
   ]
  },
  {
   "cell_type": "code",
   "execution_count": 10,
   "metadata": {},
   "outputs": [
    {
     "name": "stdout",
     "output_type": "stream",
     "text": [
      "Bid Summary\n",
      "\tSOC: 0.5\n",
      "\tProfit: 0\n",
      "\tTimestamp: 48/144457\n",
      "\tCapacity: 10.0\n",
      "\tMaximum Power: 2.0\n",
      "\tEfficiency: 1.0\n",
      "\tDischarge Cost: 0.0\n",
      "\tResting Draw: 0.0\n"
     ]
    }
   ],
   "source": [
    "example_bidder = BidSimulator(\n",
    "    data=PGAE_NP15,\n",
    "    lookback_periods=48,\n",
    "    end=len(PGAE_NP15),\n",
    "    eff=1.0,\n",
    "    discharge_cost=0.0,\n",
    "    initial_soc=0.5,\n",
    "    capacity=10.0,\n",
    "    power_max=2.0,\n",
    "    resting_draw=0.0,\n",
    "    timestep=(5.0 / 60),\n",
    "    params=None,\n",
    ")\n",
    "\n",
    "print(example_bidder)"
   ]
  },
  {
   "cell_type": "code",
   "execution_count": null,
   "metadata": {},
   "outputs": [],
   "source": []
  }
 ],
 "metadata": {
  "kernelspec": {
   "display_name": "Python 3",
   "language": "python",
   "name": "python3"
  },
  "language_info": {
   "codemirror_mode": {
    "name": "ipython",
    "version": 3
   },
   "file_extension": ".py",
   "mimetype": "text/x-python",
   "name": "python",
   "nbconvert_exporter": "python",
   "pygments_lexer": "ipython3",
   "version": "3.12.4"
  }
 },
 "nbformat": 4,
 "nbformat_minor": 2
}
